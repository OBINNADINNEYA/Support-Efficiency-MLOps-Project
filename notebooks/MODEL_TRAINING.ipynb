{
 "cells": [
  {
   "cell_type": "markdown",
   "id": "649f919b",
   "metadata": {},
   "source": []
  },
  {
   "cell_type": "code",
   "execution_count": 2,
   "id": "17168ea2",
   "metadata": {},
   "outputs": [],
   "source": [
    "# Basic Import\n",
    "import numpy as np\n",
    "import pandas as pd\n",
    "import matplotlib.pyplot as plt \n",
    "import seaborn as sns\n",
    "import re\n",
    "# Modelling\n",
    "from sklearn.preprocessing import LabelEncoder\n",
    "from sklearn.linear_model import LogisticRegression\n",
    "from sklearn.svm import LinearSVC\n",
    "from sklearn.neighbors import KNeighborsClassifier\n",
    "from sklearn.ensemble import RandomForestClassifier, AdaBoostClassifier\n",
    "from xgboost import XGBClassifier\n",
    "from catboost import CatBoostClassifier\n",
    "from sklearn.preprocessing import StandardScaler\n",
    "from sklearn.compose import ColumnTransformer\n",
    "from sklearn.feature_extraction.text import TfidfVectorizer\n",
    "from sklearn.decomposition import TruncatedSVD\n",
    "from sklearn.pipeline import Pipeline\n",
    "from sklearn.model_selection import train_test_split\n",
    "from sklearn.metrics import (\n",
    "    accuracy_score, f1_score, precision_score, recall_score,\n",
    "    precision_recall_fscore_support, confusion_matrix, ConfusionMatrixDisplay,\n",
    "    classification_report\n",
    ")\n",
    "\n",
    "\n",
    "\n",
    "import warnings"
   ]
  },
  {
   "cell_type": "code",
   "execution_count": 17,
   "id": "efa6e699",
   "metadata": {},
   "outputs": [],
   "source": [
    "df = pd.read_parquet('../artifacts/train.parquet')"
   ]
  },
  {
   "cell_type": "code",
   "execution_count": 6,
   "id": "db7c0e71",
   "metadata": {},
   "outputs": [
    {
     "data": {
      "text/html": [
       "<div>\n",
       "<style scoped>\n",
       "    .dataframe tbody tr th:only-of-type {\n",
       "        vertical-align: middle;\n",
       "    }\n",
       "\n",
       "    .dataframe tbody tr th {\n",
       "        vertical-align: top;\n",
       "    }\n",
       "\n",
       "    .dataframe thead th {\n",
       "        text-align: right;\n",
       "    }\n",
       "</style>\n",
       "<table border=\"1\" class=\"dataframe\">\n",
       "  <thead>\n",
       "    <tr style=\"text-align: right;\">\n",
       "      <th></th>\n",
       "      <th>repo</th>\n",
       "      <th>issue_id</th>\n",
       "      <th>issue_number</th>\n",
       "      <th>events</th>\n",
       "      <th>text_size</th>\n",
       "      <th>content</th>\n",
       "      <th>usernames</th>\n",
       "    </tr>\n",
       "  </thead>\n",
       "  <tbody>\n",
       "    <tr>\n",
       "      <th>0</th>\n",
       "      <td>ms-iot/vscode-ros</td>\n",
       "      <td>656314577</td>\n",
       "      <td>260</td>\n",
       "      <td>[{'action': 'opened', 'author': 'cwillia109', ...</td>\n",
       "      <td>1480</td>\n",
       "      <td>&lt;issue_start&gt;&lt;issue_comment&gt;Title: [bug] Could...</td>\n",
       "      <td>[\"nightduck\", \"BlueBirdHouse\", \"PeripateticWin...</td>\n",
       "    </tr>\n",
       "    <tr>\n",
       "      <th>1</th>\n",
       "      <td>mspnp/iot-journey</td>\n",
       "      <td>104771648</td>\n",
       "      <td>312</td>\n",
       "      <td>[{'action': 'opened', 'author': 'bennage', 'co...</td>\n",
       "      <td>1157</td>\n",
       "      <td>&lt;issue_start&gt;&lt;issue_comment&gt;Title: Replace pro...</td>\n",
       "      <td>[\"bennage\"]</td>\n",
       "    </tr>\n",
       "    <tr>\n",
       "      <th>2</th>\n",
       "      <td>dedale-fet/alpha-transform</td>\n",
       "      <td>655180157</td>\n",
       "      <td>2</td>\n",
       "      <td>[{'action': 'opened', 'author': 'matteo-ronche...</td>\n",
       "      <td>301</td>\n",
       "      <td>&lt;issue_start&gt;&lt;issue_comment&gt;Title: Create pip ...</td>\n",
       "      <td>[\"matteo-ronchetti\"]</td>\n",
       "    </tr>\n",
       "    <tr>\n",
       "      <th>3</th>\n",
       "      <td>Microsoft/TypeScript-TmLanguage</td>\n",
       "      <td>139215441</td>\n",
       "      <td>113</td>\n",
       "      <td>[{'action': 'opened', 'author': 'felixfbecker'...</td>\n",
       "      <td>536</td>\n",
       "      <td>&lt;issue_start&gt;&lt;issue_comment&gt;Title: Methods som...</td>\n",
       "      <td>[\"felixfbecker\", \"sheetalkamat\"]</td>\n",
       "    </tr>\n",
       "    <tr>\n",
       "      <th>4</th>\n",
       "      <td>dotnet/core</td>\n",
       "      <td>1000872533</td>\n",
       "      <td>6719</td>\n",
       "      <td>[{'action': 'opened', 'author': 'w00w00w', 'co...</td>\n",
       "      <td>464</td>\n",
       "      <td>&lt;issue_start&gt;&lt;issue_comment&gt;Title: help\\nusern...</td>\n",
       "      <td>[\"tannergooding\", \"w00w00w\"]</td>\n",
       "    </tr>\n",
       "  </tbody>\n",
       "</table>\n",
       "</div>"
      ],
      "text/plain": [
       "                              repo    issue_id  issue_number  \\\n",
       "0                ms-iot/vscode-ros   656314577           260   \n",
       "1                mspnp/iot-journey   104771648           312   \n",
       "2       dedale-fet/alpha-transform   655180157             2   \n",
       "3  Microsoft/TypeScript-TmLanguage   139215441           113   \n",
       "4                      dotnet/core  1000872533          6719   \n",
       "\n",
       "                                              events  text_size  \\\n",
       "0  [{'action': 'opened', 'author': 'cwillia109', ...       1480   \n",
       "1  [{'action': 'opened', 'author': 'bennage', 'co...       1157   \n",
       "2  [{'action': 'opened', 'author': 'matteo-ronche...        301   \n",
       "3  [{'action': 'opened', 'author': 'felixfbecker'...        536   \n",
       "4  [{'action': 'opened', 'author': 'w00w00w', 'co...        464   \n",
       "\n",
       "                                             content  \\\n",
       "0  <issue_start><issue_comment>Title: [bug] Could...   \n",
       "1  <issue_start><issue_comment>Title: Replace pro...   \n",
       "2  <issue_start><issue_comment>Title: Create pip ...   \n",
       "3  <issue_start><issue_comment>Title: Methods som...   \n",
       "4  <issue_start><issue_comment>Title: help\\nusern...   \n",
       "\n",
       "                                           usernames  \n",
       "0  [\"nightduck\", \"BlueBirdHouse\", \"PeripateticWin...  \n",
       "1                                        [\"bennage\"]  \n",
       "2                               [\"matteo-ronchetti\"]  \n",
       "3                   [\"felixfbecker\", \"sheetalkamat\"]  \n",
       "4                       [\"tannergooding\", \"w00w00w\"]  "
      ]
     },
     "execution_count": 6,
     "metadata": {},
     "output_type": "execute_result"
    }
   ],
   "source": [
    "df.head()"
   ]
  },
  {
   "cell_type": "code",
   "execution_count": 7,
   "id": "b1e07399",
   "metadata": {},
   "outputs": [
    {
     "data": {
      "text/plain": [
       "'<issue_start><issue_comment>Title: [bug] Could not source the setup file for ROS distro\\nusername_0: **general information**\\r\\nOS: Ubuntu 18.04\\r\\nPlugin: 0.6.3\\r\\nVS Code: 1.47.0\\r\\nROS Distro: Melodic\\r\\n\\r\\n**what is the bug**\\r\\nUsing a fresh install of visual studio code, the extension gives a \"Could not source the setup file for ROS distro \\'/opt/ros/melodic/setup.bash\\'\"\\r\\n\\r\\n**expected behavior**\\r\\nThe plugin is able to source the ROS setup.\\r\\n\\r\\n**additional context**\\r\\nHave tried this with the previous 2 versions of the plugin, neither worked. Python is also able to get ROS related autocomplete, but not C++.\\n<issue_comment>username_1: My environment is the same as yours, and encountered the same problem.\\n<issue_comment>username_2: The user-fix I found is to select the \"workspace\" tab in the extension\\'s settings and type \"melodic\" into the distro box.\\r\\n![scrot](https://user-images.githubusercontent.com/10158631/94978248-254f3500-04e2-11eb-83c8-6f25dfe622cd.png)\\n<issue_comment>username_3: I do this. However, there is no effect.\\r\\n\\r\\n\\r\\n<img width=\"616\" alt=\"Screen Shot 2022-02-22 at 10 16 25 AM\" src=\"https://user-images.githubusercontent.com/6317809/155050992-c64a0b2a-564d-4656-bce5-92952a3b5941.png\">\\r\\n<img width=\"907\" alt=\"Screen Shot 2022-02-22 at 10 17 02 AM\" src=\"https://user-images.githubusercontent.com/6317809/155051005-f6a29431-dedb-40ed-95e7-93579d312c61.png\">\\n<issue_comment>username_4: I\\'m adding support for specifying a startup script, both in the workspace and globally - https://github.com/ms-iot/vscode-ros/pull/678\\n<issue_comment>username_4: To add C++ intellisense, you need to use the `ROS: Update C++ Properties` pallet command. It is not done automatically since it will overwrite existing data.'"
      ]
     },
     "execution_count": 7,
     "metadata": {},
     "output_type": "execute_result"
    }
   ],
   "source": [
    "df['content'][0]"
   ]
  },
  {
   "cell_type": "code",
   "execution_count": 8,
   "id": "678d2745",
   "metadata": {},
   "outputs": [
    {
     "name": "stdout",
     "output_type": "stream",
     "text": [
      "<class 'pandas.core.frame.DataFrame'>\n",
      "RangeIndex: 131497 entries, 0 to 131496\n",
      "Data columns (total 7 columns):\n",
      " #   Column        Non-Null Count   Dtype \n",
      "---  ------        --------------   ----- \n",
      " 0   repo          131497 non-null  object\n",
      " 1   issue_id      131497 non-null  int64 \n",
      " 2   issue_number  131497 non-null  int64 \n",
      " 3   events        131497 non-null  object\n",
      " 4   text_size     131497 non-null  int64 \n",
      " 5   content       131497 non-null  object\n",
      " 6   usernames     131497 non-null  object\n",
      "dtypes: int64(3), object(4)\n",
      "memory usage: 7.0+ MB\n"
     ]
    }
   ],
   "source": [
    "df.info()"
   ]
  },
  {
   "cell_type": "code",
   "execution_count": 18,
   "id": "5d1de624",
   "metadata": {},
   "outputs": [],
   "source": [
    "def parse_events_min(events):\n",
    "    \"\"\"\n",
    "    Return only the columns we need for modeling/analysis:\n",
    "      - opened_at\n",
    "      - closed_at\n",
    "      - is_closed\n",
    "      - lifecycle_hours\n",
    "      - comment_count\n",
    "      - first_response_minutes\n",
    "      - bot_first_response\n",
    "      - participants_count\n",
    "    \"\"\"\n",
    "    opened_at = None\n",
    "    created_at = None\n",
    "    closed_at = None\n",
    "    first_comment_at = None\n",
    "    comment_count = 0\n",
    "    participants = set()\n",
    "\n",
    "    if not isinstance(events, (list, tuple)):\n",
    "        return {\n",
    "            \"opened_at\": None,\n",
    "            \"created_at\":None,\n",
    "            \"closed_at\": None,\n",
    "            \"is_closed\": False,\n",
    "            \"lifecycle_hours\": None,\n",
    "            \"comment_count\": 0,\n",
    "            \"first_response_minutes\": None,\n",
    "            \"bot_first_response\": None,\n",
    "            \"participants_count\": 0,\n",
    "        }\n",
    "\n",
    "    for ev in events:\n",
    "        ev_type = (ev.get(\"type\") or \"\").lower()       # 'issue' | 'comment' | ...\n",
    "        action  = (ev.get(\"action\") or \"\").lower()     # 'opened' | 'closed' | 'created' ...\n",
    "        author  = ev.get(\"author\")\n",
    "        dt      = pd.to_datetime(ev.get(\"datetime\"), utc=True, errors=\"coerce\")\n",
    "\n",
    "        if author:\n",
    "            participants.add(author)\n",
    "\n",
    "        if ev_type == \"issue\" and action == \"opened\" and opened_at is None:\n",
    "            opened_at = dt\n",
    "        if ev_type == \"comment\" and action == \"created\" and created_at is None:\n",
    "            created_at = dt\n",
    "        elif ev_type == \"issue\" and action == \"closed\" and closed_at is None:\n",
    "            closed_at = dt\n",
    "        elif ev_type == \"comment\":\n",
    "            comment_count += 1\n",
    "            if first_comment_at is None:\n",
    "                first_comment_at = dt\n",
    "\n",
    "    is_closed = closed_at is not None\n",
    "\n",
    "    lifecycle_hours = (\n",
    "        (closed_at - opened_at).total_seconds() / 3600.0\n",
    "        if opened_at is not None and closed_at is not None\n",
    "        else None\n",
    "    )\n",
    "\n",
    "    first_response_minutes = (\n",
    "        (first_comment_at - opened_at).total_seconds() / 60.0\n",
    "        if opened_at is not None and first_comment_at is not None\n",
    "        else None\n",
    "    )\n",
    "\n",
    "    return {\n",
    "        \"opened_at\": opened_at,\n",
    "        \"created_at\" :created_at,\n",
    "        \"closed_at\": closed_at,\n",
    "        \"is_closed\": is_closed,\n",
    "        \"lifecycle_hours\": lifecycle_hours,\n",
    "        \"comment_count\": int(comment_count),\n",
    "        \"first_response_minutes\": first_response_minutes,\n",
    "        \"participants_count\": int(len(participants)),\n",
    "    }"
   ]
  },
  {
   "cell_type": "code",
   "execution_count": 19,
   "id": "2810c50c",
   "metadata": {},
   "outputs": [],
   "source": [
    "fe = df[\"events\"].apply(parse_events_min).apply(pd.Series)\n",
    "df = pd.concat([df, fe], axis=1)"
   ]
  },
  {
   "cell_type": "code",
   "execution_count": 20,
   "id": "4c0f33e6",
   "metadata": {},
   "outputs": [],
   "source": [
    "#filter for only rows where df is_close == True\n",
    "df_model = df[\n",
    "    (df[\"is_closed\"] == True) & \n",
    "    (df[\"lifecycle_hours\"].notna())\n",
    "].copy()"
   ]
  },
  {
   "cell_type": "code",
   "execution_count": 23,
   "id": "a3984418",
   "metadata": {},
   "outputs": [
    {
     "name": "stdout",
     "output_type": "stream",
     "text": [
      "<class 'pandas.core.frame.DataFrame'>\n",
      "RangeIndex: 131497 entries, 0 to 131496\n",
      "Data columns (total 16 columns):\n",
      " #   Column                  Non-Null Count   Dtype \n",
      "---  ------                  --------------   ----- \n",
      " 0   repo                    131497 non-null  object\n",
      " 1   issue_id                131497 non-null  int64 \n",
      " 2   issue_number            131497 non-null  int64 \n",
      " 3   events                  131497 non-null  object\n",
      " 4   text_size               131497 non-null  int64 \n",
      " 5   content                 131497 non-null  object\n",
      " 6   usernames               131497 non-null  object\n",
      " 7   opened_at               0 non-null       object\n",
      " 8   created_at              0 non-null       object\n",
      " 9   closed_at               0 non-null       object\n",
      " 10  is_closed               131497 non-null  bool  \n",
      " 11  lifecycle_hours         0 non-null       object\n",
      " 12  comment_count           131497 non-null  int64 \n",
      " 13  first_response_minutes  0 non-null       object\n",
      " 14  bot_first_response      0 non-null       object\n",
      " 15  participants_count      131497 non-null  int64 \n",
      "dtypes: bool(1), int64(5), object(10)\n",
      "memory usage: 15.2+ MB\n"
     ]
    }
   ],
   "source": [
    "df.info()"
   ]
  },
  {
   "cell_type": "code",
   "execution_count": 84,
   "id": "8fbfd4b9",
   "metadata": {},
   "outputs": [
    {
     "name": "stderr",
     "output_type": "stream",
     "text": [
      "/var/folders/nl/4plg4prn2w39wf8d2gclsmqc0000gn/T/ipykernel_39339/2976619631.py:3: FutureWarning: A value is trying to be set on a copy of a DataFrame or Series through chained assignment using an inplace method.\n",
      "The behavior will change in pandas 3.0. This inplace method will never work because the intermediate object on which we are setting values always behaves as a copy.\n",
      "\n",
      "For example, when doing 'df[col].method(value, inplace=True)', try using 'df.method({col: value}, inplace=True)' or df[col] = df[col].method(value) instead, to perform the operation inplace on the original object.\n",
      "\n",
      "\n",
      "  df_model[\"first_response_minutes\"].fillna(-1, inplace=True)\n"
     ]
    }
   ],
   "source": [
    "#create new col for missing first response \n",
    "df_model[\"first_response_missing\"] = df_model[\"first_response_minutes\"].isna().astype(int)\n",
    "df_model[\"first_response_minutes\"].fillna(-1, inplace=True)\n"
   ]
  },
  {
   "cell_type": "code",
   "execution_count": 85,
   "id": "fbd68f87",
   "metadata": {},
   "outputs": [
    {
     "name": "stdout",
     "output_type": "stream",
     "text": [
      "<class 'pandas.core.frame.DataFrame'>\n",
      "Index: 240420 entries, 0 to 337135\n",
      "Data columns (total 17 columns):\n",
      " #   Column                  Non-Null Count   Dtype  \n",
      "---  ------                  --------------   -----  \n",
      " 0   repo                    240420 non-null  object \n",
      " 1   issue_id                240420 non-null  int64  \n",
      " 2   issue_number            240420 non-null  int64  \n",
      " 3   events                  240420 non-null  object \n",
      " 4   text_size               240420 non-null  int64  \n",
      " 5   content                 240420 non-null  object \n",
      " 6   usernames               240420 non-null  object \n",
      " 7   created_at              0 non-null       float64\n",
      " 8   opened_at               239833 non-null  object \n",
      " 9   closed_at               240420 non-null  object \n",
      " 10  is_closed               240420 non-null  bool   \n",
      " 11  lifecycle_hours         240420 non-null  float64\n",
      " 12  first_response_minutes  240420 non-null  float64\n",
      " 13  comment_count           240420 non-null  int64  \n",
      " 14  participants_count      240420 non-null  int64  \n",
      " 15  lifecycle_reason        240420 non-null  object \n",
      " 16  first_response_missing  240420 non-null  int64  \n",
      "dtypes: bool(1), float64(3), int64(6), object(7)\n",
      "memory usage: 31.4+ MB\n"
     ]
    }
   ],
   "source": [
    "df_model.info()"
   ]
  },
  {
   "cell_type": "code",
   "execution_count": 86,
   "id": "f3a6f591",
   "metadata": {},
   "outputs": [],
   "source": [
    "#clean up content column\n",
    "def clean_content(text: str) -> str:\n",
    "    if not isinstance(text, str):\n",
    "        return \"\"\n",
    "    # remove special tokens like <issue_start>, <issue_comment>, <issue_closed>\n",
    "    text = re.sub(r\"<[^>]+>\", \" \", text)\n",
    "    # remove usernames like @username_123\n",
    "    text = re.sub(r\"@\\w+\", \" \", text)\n",
    "    # remove issue/bug IDs like #TRAC123 or #1234\n",
    "    text = re.sub(r\"#\\w+\", \" \", text)\n",
    "    # collapse multiple spaces\n",
    "    text = re.sub(r\"\\s+\", \" \", text).strip()\n",
    "    return text\n",
    "\n",
    "# Apply to dataset\n",
    "df_model[\"content_clean\"] = df_model[\"content\"].apply(clean_content)"
   ]
  },
  {
   "cell_type": "code",
   "execution_count": 87,
   "id": "bb41e274",
   "metadata": {},
   "outputs": [],
   "source": [
    "\n",
    "TITLE_RE = re.compile(r\"(?i)\\btitle:\\s*(.+?)\\s*(?=username_\\d+:|$)\")\n",
    "SPEAKER_RE = re.compile(r\"\\busername_\\d+:\\s*\")\n",
    "\n",
    "def split_title_body(text: str):\n",
    "    if not isinstance(text, str) or not text.strip():\n",
    "        return \"\", \"\"\n",
    "    # 1) extract title (text after \"Title:\" up to next speaker or end)\n",
    "    m = TITLE_RE.search(text)\n",
    "    title = m.group(1).strip() if m else \"\"\n",
    "    # 2) remove title segment (including the \"Title:\" token) from the body\n",
    "    body = TITLE_RE.sub(\" \", text) if m else text\n",
    "    # 3) remove speaker tags like \"username_1:\" from body\n",
    "    body = SPEAKER_RE.sub(\" \", body)\n",
    "    # 4) collapse whitespace\n",
    "    body = re.sub(r\"\\s+\", \" \", body).strip()\n",
    "    return title, body\n",
    "\n",
    "# Apply\n",
    "df_model[[\"issue_title\", \"content_body\"]] = df_model[\"content_clean\"].apply(\n",
    "    lambda t: pd.Series(split_title_body(t))\n",
    ")\n"
   ]
  },
  {
   "cell_type": "code",
   "execution_count": 88,
   "id": "ea647416",
   "metadata": {},
   "outputs": [
    {
     "data": {
      "text/plain": [
       "0         Simple File Silo: Errors aren't submitted to m...\n",
       "2         Initializing Schema Migrations with \"dbo.\" in ...\n",
       "3         Support truthy-value shorthand for filters, li...\n",
       "5                                       Android 2.3 support\n",
       "6         Downloading assets in development mode takes a...\n",
       "                                ...                        \n",
       "337131                   i face problem to run this project\n",
       "337132                            Port-forwarding times out\n",
       "337133                              More fields for Country\n",
       "337134                                    Weird parse error\n",
       "337135                              Unable to import pandas\n",
       "Name: issue_title, Length: 240420, dtype: object"
      ]
     },
     "execution_count": 88,
     "metadata": {},
     "output_type": "execute_result"
    }
   ],
   "source": [
    "df_model['issue_title']"
   ]
  },
  {
   "cell_type": "code",
   "execution_count": 90,
   "id": "634556cc",
   "metadata": {},
   "outputs": [
    {
     "name": "stdout",
     "output_type": "stream",
     "text": [
      "resolution_class\n",
      "Long      49.99\n",
      "Short     29.97\n",
      "Medium    20.04\n",
      "Name: proportion, dtype: float64\n"
     ]
    }
   ],
   "source": [
    "# 3-class version\n",
    "bins   = [0, 24, 168, float(\"inf\")]\n",
    "labels = [\"Short\", \"Medium\", \"Long\"]\n",
    "\n",
    "df_model[\"resolution_class\"] = pd.cut(\n",
    "    df_model[\"lifecycle_hours\"],\n",
    "    bins=bins,\n",
    "    labels=labels,\n",
    "    right=True,\n",
    "    include_lowest=True\n",
    ")\n",
    "\n",
    "print(df_model[\"resolution_class\"].value_counts(normalize=True).mul(100).round(2))\n"
   ]
  },
  {
   "cell_type": "code",
   "execution_count": 92,
   "id": "624fcc1e",
   "metadata": {},
   "outputs": [],
   "source": [
    "# Drop rows where resolution_class is NaN\n",
    "df_model = df_model.dropna(subset=[\"resolution_class\"]).copy()"
   ]
  },
  {
   "cell_type": "code",
   "execution_count": 93,
   "id": "0ac15bc9",
   "metadata": {},
   "outputs": [],
   "source": [
    "X_cols = [\n",
    "    #'issue_title',\n",
    "    \"text_size\", \n",
    "    \"comment_count\", \n",
    "    \"participants_count\", \n",
    "    \"first_response_minutes\", \n",
    "    \"first_response_missing\"\n",
    "]"
   ]
  },
  {
   "cell_type": "code",
   "execution_count": 94,
   "id": "7c8cc6d2",
   "metadata": {},
   "outputs": [],
   "source": [
    "#drop irrelevant columns for modelling resolution time \n",
    "X = df_model[X_cols]\n",
    "y = df_model['resolution_class']"
   ]
  },
  {
   "cell_type": "code",
   "execution_count": 95,
   "id": "e095348a",
   "metadata": {},
   "outputs": [
    {
     "data": {
      "text/html": [
       "<div>\n",
       "<style scoped>\n",
       "    .dataframe tbody tr th:only-of-type {\n",
       "        vertical-align: middle;\n",
       "    }\n",
       "\n",
       "    .dataframe tbody tr th {\n",
       "        vertical-align: top;\n",
       "    }\n",
       "\n",
       "    .dataframe thead th {\n",
       "        text-align: right;\n",
       "    }\n",
       "</style>\n",
       "<table border=\"1\" class=\"dataframe\">\n",
       "  <thead>\n",
       "    <tr style=\"text-align: right;\">\n",
       "      <th></th>\n",
       "      <th>repo</th>\n",
       "      <th>issue_id</th>\n",
       "      <th>issue_number</th>\n",
       "      <th>events</th>\n",
       "      <th>text_size</th>\n",
       "      <th>content</th>\n",
       "      <th>usernames</th>\n",
       "      <th>created_at</th>\n",
       "      <th>opened_at</th>\n",
       "      <th>closed_at</th>\n",
       "      <th>...</th>\n",
       "      <th>lifecycle_hours</th>\n",
       "      <th>first_response_minutes</th>\n",
       "      <th>comment_count</th>\n",
       "      <th>participants_count</th>\n",
       "      <th>lifecycle_reason</th>\n",
       "      <th>first_response_missing</th>\n",
       "      <th>content_clean</th>\n",
       "      <th>issue_title</th>\n",
       "      <th>content_body</th>\n",
       "      <th>resolution_class</th>\n",
       "    </tr>\n",
       "  </thead>\n",
       "  <tbody>\n",
       "  </tbody>\n",
       "</table>\n",
       "<p>0 rows × 21 columns</p>\n",
       "</div>"
      ],
      "text/plain": [
       "Empty DataFrame\n",
       "Columns: [repo, issue_id, issue_number, events, text_size, content, usernames, created_at, opened_at, closed_at, is_closed, lifecycle_hours, first_response_minutes, comment_count, participants_count, lifecycle_reason, first_response_missing, content_clean, issue_title, content_body, resolution_class]\n",
       "Index: []\n",
       "\n",
       "[0 rows x 21 columns]"
      ]
     },
     "execution_count": 95,
     "metadata": {},
     "output_type": "execute_result"
    }
   ],
   "source": [
    "df_model[df_model['resolution_class'].isnull()]"
   ]
  },
  {
   "cell_type": "code",
   "execution_count": 96,
   "id": "01e293b3",
   "metadata": {},
   "outputs": [
    {
     "data": {
      "text/plain": [
       "'[{\\'action\\': \\'opened\\', \\'author\\': \\'HabariImporter\\', \\'comment_id\\': None, \\'datetime\\': \\'2011-06-27T00:09:06Z\\', \\'masked_author\\': \\'username_0\\', \\'text\\': \"Initially reported by: @username_2 as #TRAC453 \\\\nIt\\'d be nice if the error messages in the simple file silo were using the message system. For instance, trying to create a directory named \\'/\\' will create an error.\", \\'title\\': \"Simple File Silo: Errors aren\\'t submitted to message system\", \\'type\\': \\'issue\\'}, {\\'action\\': \\'created\\', \\'author\\': \\'Konzertheld\\', \\'comment_id\\': 264033767, \\'datetime\\': \\'2016-11-30 23:47:14+00:00\\', \\'masked_author\\': \\'username_1\\', \\'text\\': \\'I wonder if @heilemann still uses Habari and can confirm this is fixed (because it is, as I see it).\\', \\'title\\': None, \\'type\\': \\'comment\\'}, {\\'action\\': \\'created\\', \\'author\\': \\'Heilemann\\', \\'comment_id\\': 264213444, \\'datetime\\': \\'2016-12-01 16:03:22+00:00\\', \\'masked_author\\': \\'username_2\\', \\'text\\': \"Thank you for thinking of me, but no, I\\'m no longer using Habari.\", \\'title\\': None, \\'type\\': \\'comment\\'}, {\\'action\\': \\'closed\\', \\'author\\': \\'Konzertheld\\', \\'comment_id\\': None, \\'datetime\\': \\'2016-12-01 16:05:10+00:00\\', \\'masked_author\\': \\'username_1\\', \\'text\\': \\'\\', \\'title\\': None, \\'type\\': \\'issue\\'}, {\\'action\\': \\'created\\', \\'author\\': \\'Konzertheld\\', \\'comment_id\\': 264213927, \\'datetime\\': \\'2016-12-01 16:05:10+00:00\\', \\'masked_author\\': \\'username_1\\', \\'text\\': \\'Ok. As far as I can see there are no errors that get lost somewhere in the silo, also, we are going to redesign it and will run a lot of tests propably. So I close this and we can open a new one if someone comes across something.\\', \\'title\\': None, \\'type\\': \\'comment\\'}]'"
      ]
     },
     "execution_count": 96,
     "metadata": {},
     "output_type": "execute_result"
    }
   ],
   "source": [
    "df_model['events'][0]"
   ]
  },
  {
   "cell_type": "markdown",
   "id": "f8454da6",
   "metadata": {},
   "source": [
    "#### Preparing X and Y variables"
   ]
  },
  {
   "cell_type": "code",
   "execution_count": null,
   "id": "0043c243",
   "metadata": {},
   "outputs": [],
   "source": [
    "#Create Column Transformer with 1/2 types of transformers\n",
    "\n",
    "text_col = \"content_clean\"\n",
    "num_cols  = [\"text_size\",\"comment_count\",\"participants_count\",\"first_response_minutes\",\"first_response_missing\"]\n",
    "\n",
    "# # Text branch: TF-IDF -> SVD\n",
    "# text_pipe = Pipeline([\n",
    "#     (\"tfidf\", TfidfVectorizer(max_features=5000, ngram_range=(1,1), \n",
    "#                               max_df=0.9, min_df=10, stop_words=\"english\")),\n",
    "#     (\"svd\", TruncatedSVD(n_components=10, random_state=42))\n",
    "# ])\n",
    "\n",
    "preprocessor = ColumnTransformer(\n",
    "    transformers=[\n",
    "        (\"num\", StandardScaler(), num_cols),\n",
    "    ],\n",
    ")\n"
   ]
  },
  {
   "cell_type": "code",
   "execution_count": null,
   "id": "3c4c3230",
   "metadata": {},
   "outputs": [],
   "source": [
    "# X = preprocessor.fit_transform(X)"
   ]
  },
  {
   "cell_type": "code",
   "execution_count": 99,
   "id": "a27e8023",
   "metadata": {},
   "outputs": [
    {
     "data": {
      "text/plain": [
       "((192336, 5), (48084, 5))"
      ]
     },
     "execution_count": 99,
     "metadata": {},
     "output_type": "execute_result"
    }
   ],
   "source": [
    "# separate dataset into train and test\n",
    "X_train, X_test, y_train, y_test = train_test_split(X,y,test_size=0.2,random_state=42)\n",
    "X_train.shape, X_test.shape"
   ]
  },
  {
   "cell_type": "code",
   "execution_count": 100,
   "id": "27f96af2",
   "metadata": {},
   "outputs": [],
   "source": [
    "# y should be your resolution_class column (strings). Encode to ints.\n",
    "le = LabelEncoder()\n",
    "y_train_cls = le.fit_transform(y_train)   # y_train is df column of classes\n",
    "y_test_cls  = le.transform(y_test)"
   ]
  },
  {
   "cell_type": "markdown",
   "id": "753e5336",
   "metadata": {},
   "source": [
    "#### Create an Evaluate Function to give all metrics after model Training"
   ]
  },
  {
   "cell_type": "code",
   "execution_count": 101,
   "id": "2f716a31",
   "metadata": {},
   "outputs": [],
   "source": [
    "def eval_metrics(y_true, y_pred, le):\n",
    "    acc   = accuracy_score(y_true, y_pred)\n",
    "    f1_ma = f1_score(y_true, y_pred, average=\"macro\")\n",
    "    f1_wt = f1_score(y_true, y_pred, average=\"weighted\")\n",
    "    prec_ma = precision_score(y_true, y_pred, average=\"macro\", zero_division=0)\n",
    "    rec_ma  = recall_score(y_true, y_pred, average=\"macro\", zero_division=0)\n",
    "\n",
    "    # per-class metrics\n",
    "    classes = list(le.classes_)  # e.g., [\"Short\",\"Medium\",\"Long\"]\n",
    "    p_cls, r_cls, f_cls, _ = precision_recall_fscore_support(\n",
    "        y_true, y_pred, labels=np.arange(len(classes)), zero_division=0\n",
    "    )\n",
    "    # Find indices for \"Long\" and \"Short\" if present\n",
    "    idx_long  = classes.index(\"Long\")  if \"Long\"  in classes else None\n",
    "    idx_short = classes.index(\"Short\") if \"Short\" in classes else None\n",
    "    recall_long     = r_cls[idx_long]  if idx_long  is not None else np.nan\n",
    "    precision_short = p_cls[idx_short] if idx_short is not None else np.nan\n",
    "\n",
    "    return {\n",
    "        \"acc\": acc, \"f1_macro\": f1_ma, \"f1_weighted\": f1_wt,\n",
    "        \"precision_macro\": prec_ma, \"recall_macro\": rec_ma,\n",
    "        \"recall_long\": recall_long, \"precision_short\": precision_short\n",
    "    }"
   ]
  },
  {
   "cell_type": "code",
   "execution_count": 102,
   "id": "4cab3f3c",
   "metadata": {},
   "outputs": [],
   "source": [
    "models = {\n",
    "    \"LogisticRegression\": LogisticRegression(),\n",
    "    \"LinearSVC\": LinearSVC(),\n",
    "    \"KNN\": KNeighborsClassifier(),\n",
    "    \"RandomForest\": RandomForestClassifier(),\n",
    "    \"XGBClassifier\": XGBClassifier(use_label_encoder=False, eval_metric=\"mlogloss\"),\n",
    "    \"CatBoost\": CatBoostClassifier(verbose=False),\n",
    "    \"AdaBoost\": AdaBoostClassifier()\n",
    "}"
   ]
  },
  {
   "cell_type": "code",
   "execution_count": null,
   "id": "aff9fb54",
   "metadata": {},
   "outputs": [
    {
     "name": "stderr",
     "output_type": "stream",
     "text": [
      "/Users/obinnadinneya/miniconda3/envs/venv/lib/python3.12/site-packages/sklearn/linear_model/_logistic.py:473: ConvergenceWarning: lbfgs failed to converge after 100 iteration(s) (status=1):\n",
      "STOP: TOTAL NO. OF ITERATIONS REACHED LIMIT\n",
      "\n",
      "Increase the number of iterations to improve the convergence (max_iter=100).\n",
      "You might also want to scale the data as shown in:\n",
      "    https://scikit-learn.org/stable/modules/preprocessing.html\n",
      "Please also refer to the documentation for alternative solver options:\n",
      "    https://scikit-learn.org/stable/modules/linear_model.html#logistic-regression\n",
      "  n_iter_i = _check_optimize_result(\n"
     ]
    },
    {
     "name": "stdout",
     "output_type": "stream",
     "text": [
      "LogisticRegression\n",
      "Train | Acc: 0.503  F1-macro: 0.276  Prec-macro: 0.356  Rec-macro: 0.349  Recall(Long): 0.943  Precision(Short): 0.414\n",
      "Test  | Acc: 0.501  F1-macro: 0.274  Prec-macro: 0.392  Rec-macro: 0.348  Recall(Long): 0.943  Precision(Short): 0.420\n",
      "----------------------------------------------------------------------\n",
      "LinearSVC\n",
      "Train | Acc: 0.499  F1-macro: 0.224  Prec-macro: 0.246  Rec-macro: 0.333  Recall(Long): 0.997  Precision(Short): 0.000\n",
      "Test  | Acc: 0.498  F1-macro: 0.224  Prec-macro: 0.265  Rec-macro: 0.334  Recall(Long): 0.997  Precision(Short): 0.000\n",
      "----------------------------------------------------------------------\n",
      "KNN\n",
      "Train | Acc: 0.700  F1-macro: 0.656  Prec-macro: 0.676  Rec-macro: 0.645  Recall(Long): 0.826  Precision(Short): 0.719\n",
      "Test  | Acc: 0.576  F1-macro: 0.516  Prec-macro: 0.526  Rec-macro: 0.512  Recall(Long): 0.725  Precision(Short): 0.578\n",
      "----------------------------------------------------------------------\n",
      "RandomForest\n",
      "Train | Acc: 0.946  F1-macro: 0.943  Prec-macro: 0.953  Rec-macro: 0.933  Recall(Long): 0.978  Precision(Short): 0.950\n",
      "Test  | Acc: 0.636  F1-macro: 0.580  Prec-macro: 0.590  Rec-macro: 0.577  Recall(Long): 0.752  Precision(Short): 0.618\n",
      "----------------------------------------------------------------------\n"
     ]
    },
    {
     "name": "stderr",
     "output_type": "stream",
     "text": [
      "/Users/obinnadinneya/miniconda3/envs/venv/lib/python3.12/site-packages/xgboost/training.py:183: UserWarning: [16:33:37] WARNING: /var/folders/k1/30mswbxs7r1g6zwn8y4fyt500000gp/T/abs_abwcuua5oq/croot/xgboost-split_1749630928197/work/src/learner.cc:738: \n",
      "Parameters: { \"use_label_encoder\" } are not used.\n",
      "\n",
      "  bst.update(dtrain, iteration=i, fobj=obj)\n"
     ]
    },
    {
     "name": "stdout",
     "output_type": "stream",
     "text": [
      "XGBClassifier\n",
      "Train | Acc: 0.682  F1-macro: 0.613  Prec-macro: 0.681  Rec-macro: 0.607  Recall(Long): 0.822  Precision(Short): 0.648\n",
      "Test  | Acc: 0.676  F1-macro: 0.604  Prec-macro: 0.670  Rec-macro: 0.599  Recall(Long): 0.819  Precision(Short): 0.648\n",
      "----------------------------------------------------------------------\n",
      "CatBoost\n",
      "Train | Acc: 0.681  F1-macro: 0.611  Prec-macro: 0.678  Rec-macro: 0.605  Recall(Long): 0.822  Precision(Short): 0.647\n",
      "Test  | Acc: 0.678  F1-macro: 0.605  Prec-macro: 0.674  Rec-macro: 0.600  Recall(Long): 0.822  Precision(Short): 0.649\n",
      "----------------------------------------------------------------------\n",
      "AdaBoost\n",
      "Train | Acc: 0.641  F1-macro: 0.523  Prec-macro: 0.635  Rec-macro: 0.552  Recall(Long): 0.775  Precision(Short): 0.575\n",
      "Test  | Acc: 0.646  F1-macro: 0.527  Prec-macro: 0.640  Rec-macro: 0.555  Recall(Long): 0.780  Precision(Short): 0.584\n",
      "----------------------------------------------------------------------\n",
      "\n",
      "Best model by F1-macro: CatBoost  -> {'acc': 0.6775434656018634, 'f1_macro': 0.6052267415003579, 'f1_weighted': 0.6566433194252397, 'precision_macro': 0.6742246802343134, 'recall_macro': 0.5998367743660155, 'recall_long': 0.8220858895705522, 'precision_short': 0.648938181359884}\n"
     ]
    },
    {
     "data": {
      "image/png": "[encoded data removed]",
      "text/plain": [
       "<Figure size 1200x500 with 2 Axes>"
      ]
     },
     "metadata": {},
     "output_type": "display_data"
    },
    {
     "name": "stdout",
     "output_type": "stream",
     "text": [
      "\n",
      "Detailed classification report (best model):\n",
      "              precision    recall  f1-score   support\n",
      "\n",
      "        Long       0.69      0.82      0.75     23961\n",
      "      Medium       0.68      0.27      0.39      9565\n",
      "       Short       0.65      0.71      0.68     14558\n",
      "\n",
      "    accuracy                           0.68     48084\n",
      "   macro avg       0.67      0.60      0.61     48084\n",
      "weighted avg       0.68      0.68      0.66     48084\n",
      "\n"
     ]
    },
    {
     "ename": "",
     "evalue": "",
     "output_type": "error",
     "traceback": [
      "\u001b[1;31mThe Kernel crashed while executing code in the current cell or a previous cell. \n",
      "\u001b[1;31mPlease review the code in the cell(s) to identify a possible cause of the failure. \n",
      "\u001b[1;31mClick <a href='https://aka.ms/vscodeJupyterKernelCrash'>here</a> for more info. \n",
      "\u001b[1;31mView Jupyter <a href='command:jupyter.viewOutput'>log</a> for further details."
     ]
    }
   ],
   "source": [
    "\n",
    "results = {}\n",
    "\n",
    "model_list = []\n",
    "for name, model in models.items():\n",
    "    model.fit(X_train, y_train_cls)\n",
    "    y_tr_pred = model.predict(X_train)\n",
    "    y_te_pred = model.predict(X_test)\n",
    "\n",
    "    tr = eval_metrics(y_train_cls, y_tr_pred, le)\n",
    "    te = eval_metrics(y_test_cls,  y_te_pred,  le)\n",
    "\n",
    "    results[name] = te  # store test metrics\n",
    "    model_list.append(name)\n",
    "\n",
    "    print(name)\n",
    "    print(f\"Train | Acc: {tr['acc']:.3f}  F1-macro: {tr['f1_macro']:.3f}  \"\n",
    "          f\"Prec-macro: {tr['precision_macro']:.3f}  Rec-macro: {tr['recall_macro']:.3f}  \"\n",
    "          f\"Recall(Long): {tr['recall_long']:.3f}  Precision(Short): {tr['precision_short']:.3f}\")\n",
    "    print(f\"Test  | Acc: {te['acc']:.3f}  F1-macro: {te['f1_macro']:.3f}  \"\n",
    "          f\"Prec-macro: {te['precision_macro']:.3f}  Rec-macro: {te['recall_macro']:.3f}  \"\n",
    "          f\"Recall(Long): {te['recall_long']:.3f}  Precision(Short): {te['precision_short']:.3f}\")\n",
    "    print(\"-\" * 70)\n",
    "\n",
    "# Pick best by Macro-F1 (primary)\n",
    "best_name = max(results, key=lambda k: results[k][\"f1_macro\"])\n",
    "best_model = models[best_name]\n",
    "print(f\"\\nBest model by F1-macro: {best_name}  -> {results[best_name]}\")\n",
    "\n",
    "# Confusion matrix + detailed report for best model\n",
    "y_pred_best = best_model.predict(X_test)\n",
    "cm = confusion_matrix(y_test_cls, y_pred_best, labels=np.arange(len(le.classes_)))\n",
    "\n",
    "fig, ax = plt.subplots(1, 2, figsize=(12, 5))\n",
    "ConfusionMatrixDisplay(cm, display_labels=le.classes_).plot(ax=ax[0], cmap=\"Blues\", colorbar=False)\n",
    "ax[0].set_title(f\"{best_name} - Confusion Matrix (Counts)\")\n",
    "\n",
    "cm_norm = cm.astype(float) / cm.sum(axis=1, keepdims=True)\n",
    "ConfusionMatrixDisplay(cm_norm, display_labels=le.classes_).plot(\n",
    "    ax=ax[1], cmap=\"Blues\", values_format=\".2f\", colorbar=False\n",
    ")\n",
    "ax[1].set_title(f\"{best_name} - Confusion Matrix (Row-Normalized)\")\n",
    "plt.tight_layout(); plt.show()\n",
    "\n",
    "print(\"\\nDetailed classification report (best model):\")\n",
    "print(classification_report(\n",
    "    y_test_cls, \n",
    "    y_pred_best, \n",
    "    target_names=[str(c) for c in le.classes_], \n",
    "    zero_division=0\n",
    "))"
   ]
  }
 ],
 "metadata": {
  "kernelspec": {
   "display_name": "venv",
   "language": "python",
   "name": "python3"
  },
  "language_info": {
   "codemirror_mode": {
    "name": "ipython",
    "version": 3
   },
   "file_extension": ".py",
   "mimetype": "text/x-python",
   "name": "python",
   "nbconvert_exporter": "python",
   "pygments_lexer": "ipython3",
   "version": "3.12.3"
  }
 },
 "nbformat": 4,
 "nbformat_minor": 5
}
