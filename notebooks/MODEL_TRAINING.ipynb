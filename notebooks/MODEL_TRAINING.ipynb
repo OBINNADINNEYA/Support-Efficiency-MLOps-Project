{
 "cells": [
  {
   "cell_type": "markdown",
   "id": "649f919b",
   "metadata": {},
   "source": []
  },
  {
   "cell_type": "code",
   "execution_count": null,
   "id": "17168ea2",
   "metadata": {},
   "outputs": [],
   "source": [
    "# Basic Import\n",
    "import numpy as np\n",
    "import pandas as pd\n",
    "import matplotlib.pyplot as plt \n",
    "import seaborn as sns\n",
    "import shap\n",
    "import re\n",
    "# Modelling\n",
    "from sklearn.preprocessing import LabelEncoder\n",
    "from sklearn.linear_model import LogisticRegression\n",
    "from sklearn.svm import LinearSVC\n",
    "from sklearn.neighbors import KNeighborsClassifier\n",
    "from sklearn.ensemble import RandomForestClassifier, AdaBoostClassifier\n",
    "from xgboost import XGBClassifier\n",
    "from catboost import CatBoostClassifier\n",
    "from sklearn.preprocessing import RobustScaler\n",
    "from sklearn.compose import ColumnTransformer\n",
    "from sklearn.pipeline import Pipeline\n",
    "from sklearn.model_selection import train_test_split\n",
    "from sklearn.metrics import (\n",
    "    accuracy_score, f1_score, precision_score, recall_score,\n",
    "    precision_recall_fscore_support, confusion_matrix, ConfusionMatrixDisplay,\n",
    "    classification_report\n",
    ")\n",
    "import warnings"
   ]
  },
  {
   "cell_type": "code",
   "execution_count": 2,
   "id": "efa6e699",
   "metadata": {},
   "outputs": [],
   "source": [
    "df = pd.read_parquet('../artifacts/train.parquet')"
   ]
  },
  {
   "cell_type": "code",
   "execution_count": 3,
   "id": "db7c0e71",
   "metadata": {},
   "outputs": [
    {
     "data": {
      "text/html": [
       "<div>\n",
       "<style scoped>\n",
       "    .dataframe tbody tr th:only-of-type {\n",
       "        vertical-align: middle;\n",
       "    }\n",
       "\n",
       "    .dataframe tbody tr th {\n",
       "        vertical-align: top;\n",
       "    }\n",
       "\n",
       "    .dataframe thead th {\n",
       "        text-align: right;\n",
       "    }\n",
       "</style>\n",
       "<table border=\"1\" class=\"dataframe\">\n",
       "  <thead>\n",
       "    <tr style=\"text-align: right;\">\n",
       "      <th></th>\n",
       "      <th>repo</th>\n",
       "      <th>issue_id</th>\n",
       "      <th>issue_number</th>\n",
       "      <th>pull_request</th>\n",
       "      <th>events</th>\n",
       "      <th>text_size</th>\n",
       "      <th>content</th>\n",
       "      <th>usernames</th>\n",
       "    </tr>\n",
       "  </thead>\n",
       "  <tbody>\n",
       "    <tr>\n",
       "      <th>0</th>\n",
       "      <td>CrowdStrike/psfalcon</td>\n",
       "      <td>942442053</td>\n",
       "      <td>59</td>\n",
       "      <td>None</td>\n",
       "      <td>[{'action': 'opened', 'author': 'bk-cs', 'comm...</td>\n",
       "      <td>314</td>\n",
       "      <td>&lt;issue_start&gt;&lt;issue_comment&gt;Title: 'CloneId' d...</td>\n",
       "      <td>[\"bk-cs\"]</td>\n",
       "    </tr>\n",
       "    <tr>\n",
       "      <th>1</th>\n",
       "      <td>NixOS/nixpkgs</td>\n",
       "      <td>114265976</td>\n",
       "      <td>10717</td>\n",
       "      <td>{'number': 10717.0, 'repo': 'nixpkgs', 'user_l...</td>\n",
       "      <td>[{'action': 'opened', 'author': 'richardipsum'...</td>\n",
       "      <td>699</td>\n",
       "      <td>&lt;issue_start&gt;&lt;issue_comment&gt;Title: Update clia...</td>\n",
       "      <td>[\"jagajaga\", \"richardipsum\"]</td>\n",
       "    </tr>\n",
       "    <tr>\n",
       "      <th>2</th>\n",
       "      <td>rosalindfranklininstitute/rfi-file-monitor</td>\n",
       "      <td>835865359</td>\n",
       "      <td>185</td>\n",
       "      <td>{'number': 185.0, 'repo': 'rfi-file-monitor', ...</td>\n",
       "      <td>[{'action': 'opened', 'author': 'tschoonj', 'c...</td>\n",
       "      <td>502</td>\n",
       "      <td>&lt;issue_start&gt;&lt;issue_comment&gt;Title: Allow engin...</td>\n",
       "      <td>[\"tschoonj\"]</td>\n",
       "    </tr>\n",
       "    <tr>\n",
       "      <th>3</th>\n",
       "      <td>19wu/19wu</td>\n",
       "      <td>85773196</td>\n",
       "      <td>642</td>\n",
       "      <td>None</td>\n",
       "      <td>[{'action': 'opened', 'author': 'angelfan', 'c...</td>\n",
       "      <td>240</td>\n",
       "      <td>&lt;issue_start&gt;&lt;issue_comment&gt;Title: error\\nuser...</td>\n",
       "      <td>[\"angelfan\", \"Kevinqingyu\"]</td>\n",
       "    </tr>\n",
       "    <tr>\n",
       "      <th>4</th>\n",
       "      <td>withastro/astro</td>\n",
       "      <td>1092870321</td>\n",
       "      <td>2300</td>\n",
       "      <td>{'number': 2300.0, 'repo': 'astro', 'user_logi...</td>\n",
       "      <td>[{'action': 'opened', 'author': 'moritzlaube',...</td>\n",
       "      <td>711</td>\n",
       "      <td>&lt;issue_start&gt;&lt;issue_comment&gt;Title: Update svel...</td>\n",
       "      <td>[\"moritzlaube\", \"matthewp\"]</td>\n",
       "    </tr>\n",
       "  </tbody>\n",
       "</table>\n",
       "</div>"
      ],
      "text/plain": [
       "                                         repo    issue_id  issue_number  \\\n",
       "0                        CrowdStrike/psfalcon   942442053            59   \n",
       "1                               NixOS/nixpkgs   114265976         10717   \n",
       "2  rosalindfranklininstitute/rfi-file-monitor   835865359           185   \n",
       "3                                   19wu/19wu    85773196           642   \n",
       "4                             withastro/astro  1092870321          2300   \n",
       "\n",
       "                                        pull_request  \\\n",
       "0                                               None   \n",
       "1  {'number': 10717.0, 'repo': 'nixpkgs', 'user_l...   \n",
       "2  {'number': 185.0, 'repo': 'rfi-file-monitor', ...   \n",
       "3                                               None   \n",
       "4  {'number': 2300.0, 'repo': 'astro', 'user_logi...   \n",
       "\n",
       "                                              events  text_size  \\\n",
       "0  [{'action': 'opened', 'author': 'bk-cs', 'comm...        314   \n",
       "1  [{'action': 'opened', 'author': 'richardipsum'...        699   \n",
       "2  [{'action': 'opened', 'author': 'tschoonj', 'c...        502   \n",
       "3  [{'action': 'opened', 'author': 'angelfan', 'c...        240   \n",
       "4  [{'action': 'opened', 'author': 'moritzlaube',...        711   \n",
       "\n",
       "                                             content  \\\n",
       "0  <issue_start><issue_comment>Title: 'CloneId' d...   \n",
       "1  <issue_start><issue_comment>Title: Update clia...   \n",
       "2  <issue_start><issue_comment>Title: Allow engin...   \n",
       "3  <issue_start><issue_comment>Title: error\\nuser...   \n",
       "4  <issue_start><issue_comment>Title: Update svel...   \n",
       "\n",
       "                      usernames  \n",
       "0                     [\"bk-cs\"]  \n",
       "1  [\"jagajaga\", \"richardipsum\"]  \n",
       "2                  [\"tschoonj\"]  \n",
       "3   [\"angelfan\", \"Kevinqingyu\"]  \n",
       "4   [\"moritzlaube\", \"matthewp\"]  "
      ]
     },
     "execution_count": 3,
     "metadata": {},
     "output_type": "execute_result"
    }
   ],
   "source": [
    "df.head()"
   ]
  },
  {
   "cell_type": "code",
   "execution_count": 4,
   "id": "b1e07399",
   "metadata": {},
   "outputs": [
    {
     "data": {
      "text/plain": [
       "\"<issue_start><issue_comment>Title: 'CloneId' doesn't work with New-Falcon...Policy\\nusername_0: 'CloneId' is a query parameter for New-FalconFirewallPolicy, but not other policy types. Something is causing the `clone_id` value to be placed in the query field, rather than the body. This will be fixed in my next update.<issue_closed>\\n<issue_comment>username_0: Fixed in [v2.1.0-alpha](https://github.com/CrowdStrike/psfalcon/releases/tag/v2.1.0-alpha).\""
      ]
     },
     "execution_count": 4,
     "metadata": {},
     "output_type": "execute_result"
    }
   ],
   "source": [
    "df['content'][0]"
   ]
  },
  {
   "cell_type": "code",
   "execution_count": 5,
   "id": "678d2745",
   "metadata": {},
   "outputs": [
    {
     "name": "stdout",
     "output_type": "stream",
     "text": [
      "<class 'pandas.core.frame.DataFrame'>\n",
      "RangeIndex: 195168 entries, 0 to 195167\n",
      "Data columns (total 8 columns):\n",
      " #   Column        Non-Null Count   Dtype \n",
      "---  ------        --------------   ----- \n",
      " 0   repo          195168 non-null  object\n",
      " 1   issue_id      195168 non-null  int64 \n",
      " 2   issue_number  195168 non-null  int64 \n",
      " 3   pull_request  63737 non-null   object\n",
      " 4   events        195168 non-null  object\n",
      " 5   text_size     195168 non-null  int64 \n",
      " 6   content       195168 non-null  object\n",
      " 7   usernames     195168 non-null  object\n",
      "dtypes: int64(3), object(5)\n",
      "memory usage: 11.9+ MB\n"
     ]
    }
   ],
   "source": [
    "df.info()"
   ]
  },
  {
   "cell_type": "code",
   "execution_count": 6,
   "id": "004a8d4b",
   "metadata": {},
   "outputs": [],
   "source": [
    "#(drop pull requests) with values and keep those with None \n",
    "df = df[df[\"pull_request\"].isna()].reset_index(drop=True)\n",
    "\n",
    "#drop the column pull requests\n",
    "df.drop(columns='pull_request',inplace=True)"
   ]
  },
  {
   "cell_type": "code",
   "execution_count": 7,
   "id": "051fd629",
   "metadata": {},
   "outputs": [
    {
     "name": "stdout",
     "output_type": "stream",
     "text": [
      "<class 'pandas.core.frame.DataFrame'>\n",
      "RangeIndex: 131431 entries, 0 to 131430\n",
      "Data columns (total 7 columns):\n",
      " #   Column        Non-Null Count   Dtype \n",
      "---  ------        --------------   ----- \n",
      " 0   repo          131431 non-null  object\n",
      " 1   issue_id      131431 non-null  int64 \n",
      " 2   issue_number  131431 non-null  int64 \n",
      " 3   events        131431 non-null  object\n",
      " 4   text_size     131431 non-null  int64 \n",
      " 5   content       131431 non-null  object\n",
      " 6   usernames     131431 non-null  object\n",
      "dtypes: int64(3), object(4)\n",
      "memory usage: 7.0+ MB\n"
     ]
    }
   ],
   "source": [
    "df.info()"
   ]
  },
  {
   "cell_type": "code",
   "execution_count": 8,
   "id": "5d1de624",
   "metadata": {},
   "outputs": [],
   "source": [
    "def parse_events_min(events):\n",
    "    \"\"\"\n",
    "    Parse issue events into modeling features:\n",
    "      - opened_at, closed_at, is_closed\n",
    "      - lifecycle_hours\n",
    "      - comment_count\n",
    "      - first_response_minutes\n",
    "      - participants_count\n",
    "    \"\"\"\n",
    "    opened_at = None\n",
    "    closed_at = None\n",
    "    first_comment_at = None\n",
    "    first_responder = None\n",
    "    comment_count = 0\n",
    "    participants = set()\n",
    "\n",
    "\n",
    "    # Accept list/tuple/np.ndarray of event dicts\n",
    "    if isinstance(events, np.ndarray):\n",
    "        events = events.tolist()\n",
    "    if not isinstance(events, (list, tuple)):\n",
    "        return {\n",
    "            \"opened_at\": None,\n",
    "            \"closed_at\": None,\n",
    "            \"is_closed\": False,\n",
    "            \"lifecycle_hours\": None,\n",
    "            \"comment_count\": 0,\n",
    "            \"first_response_minutes\": None,\n",
    "            \"participants_count\": 0,\n",
    "        }\n",
    "\n",
    "    for ev in events:\n",
    "        ev_type = (ev.get(\"type\") or \"\").lower()       # 'issue' | 'comment' | ...\n",
    "        action  = (ev.get(\"action\") or \"\").lower()     # 'opened' | 'closed' | 'created' ...\n",
    "        author  = ev.get(\"author\")\n",
    "        dt      = pd.to_datetime(ev.get(\"datetime\"), utc=True, errors=\"coerce\")\n",
    "\n",
    "        if author:\n",
    "            participants.add(author)\n",
    "\n",
    "        if ev_type == \"issue\" and action == \"opened\" and opened_at is None:\n",
    "            opened_at = dt\n",
    "        elif ev_type == \"issue\" and action == \"closed\" and closed_at is None:\n",
    "            closed_at = dt\n",
    "        elif ev_type == \"comment\":\n",
    "            comment_count += 1\n",
    "            if first_comment_at is None:\n",
    "                first_comment_at = dt\n",
    "                first_responder = author\n",
    "\n",
    "    is_closed = closed_at is not None\n",
    "\n",
    "    lifecycle_hours = (\n",
    "        (closed_at - opened_at).total_seconds() / 3600.0\n",
    "        if opened_at is not None and closed_at is not None\n",
    "        else None\n",
    "    )\n",
    "\n",
    "    first_response_minutes = (\n",
    "        (first_comment_at - opened_at).total_seconds() / 60.0\n",
    "        if opened_at is not None and first_comment_at is not None\n",
    "        else None\n",
    "    )\n",
    "\n",
    "    return {\n",
    "        \"opened_at\": opened_at,\n",
    "        \"closed_at\": closed_at,\n",
    "        \"is_closed\": is_closed,\n",
    "        \"lifecycle_hours\": lifecycle_hours,\n",
    "        \"comment_count\": int(comment_count),\n",
    "        \"first_response_minutes\": first_response_minutes,\n",
    "        \"participants_count\": int(len(participants)),\n",
    "    }\n"
   ]
  },
  {
   "cell_type": "code",
   "execution_count": 9,
   "id": "2eed71ae",
   "metadata": {},
   "outputs": [],
   "source": [
    "# Expand features from events\n",
    "fe = df[\"events\"].apply(parse_events_min).apply(pd.Series)\n",
    "\n",
    "# Join back\n",
    "df = pd.concat([df.drop(columns=[\"opened_at\",\"closed_at\",\"is_closed\",\n",
    "                                  \"lifecycle_hours\",\"comment_count\",\n",
    "                                  \"first_response_minutes\",\"participants_count\"], errors=\"ignore\"),\n",
    "                 fe], axis=1)"
   ]
  },
  {
   "cell_type": "code",
   "execution_count": 11,
   "id": "4c0f33e6",
   "metadata": {},
   "outputs": [],
   "source": [
    "#filter for only rows where df is_close == True\n",
    "df_model = df[\n",
    "    (df[\"is_closed\"] == True) & \n",
    "    (df[\"lifecycle_hours\"].notna())\n",
    "].copy()"
   ]
  },
  {
   "cell_type": "code",
   "execution_count": 12,
   "id": "8fbfd4b9",
   "metadata": {},
   "outputs": [
    {
     "name": "stderr",
     "output_type": "stream",
     "text": [
      "/var/folders/nl/4plg4prn2w39wf8d2gclsmqc0000gn/T/ipykernel_534/2976619631.py:3: FutureWarning: A value is trying to be set on a copy of a DataFrame or Series through chained assignment using an inplace method.\n",
      "The behavior will change in pandas 3.0. This inplace method will never work because the intermediate object on which we are setting values always behaves as a copy.\n",
      "\n",
      "For example, when doing 'df[col].method(value, inplace=True)', try using 'df.method({col: value}, inplace=True)' or df[col] = df[col].method(value) instead, to perform the operation inplace on the original object.\n",
      "\n",
      "\n",
      "  df_model[\"first_response_minutes\"].fillna(-1, inplace=True)\n"
     ]
    }
   ],
   "source": [
    "#create new col for missing first response \n",
    "df_model[\"first_response_missing\"] = df_model[\"first_response_minutes\"].isna().astype(int)\n",
    "df_model[\"first_response_minutes\"].fillna(-1, inplace=True)\n"
   ]
  },
  {
   "cell_type": "code",
   "execution_count": 13,
   "id": "fbd68f87",
   "metadata": {},
   "outputs": [
    {
     "name": "stdout",
     "output_type": "stream",
     "text": [
      "<class 'pandas.core.frame.DataFrame'>\n",
      "Index: 93409 entries, 0 to 131430\n",
      "Data columns (total 15 columns):\n",
      " #   Column                  Non-Null Count  Dtype              \n",
      "---  ------                  --------------  -----              \n",
      " 0   repo                    93409 non-null  object             \n",
      " 1   issue_id                93409 non-null  int64              \n",
      " 2   issue_number            93409 non-null  int64              \n",
      " 3   events                  93409 non-null  object             \n",
      " 4   text_size               93409 non-null  int64              \n",
      " 5   content                 93409 non-null  object             \n",
      " 6   usernames               93409 non-null  object             \n",
      " 7   opened_at               93409 non-null  datetime64[ns, UTC]\n",
      " 8   closed_at               93409 non-null  datetime64[ns, UTC]\n",
      " 9   is_closed               93409 non-null  bool               \n",
      " 10  lifecycle_hours         93409 non-null  float64            \n",
      " 11  comment_count           93409 non-null  int64              \n",
      " 12  first_response_minutes  93409 non-null  float64            \n",
      " 13  participants_count      93409 non-null  int64              \n",
      " 14  first_response_missing  93409 non-null  int64              \n",
      "dtypes: bool(1), datetime64[ns, UTC](2), float64(2), int64(6), object(4)\n",
      "memory usage: 10.8+ MB\n"
     ]
    }
   ],
   "source": [
    "df_model.info()"
   ]
  },
  {
   "cell_type": "code",
   "execution_count": 14,
   "id": "f3a6f591",
   "metadata": {},
   "outputs": [],
   "source": [
    "#clean up content column\n",
    "def clean_content(text: str) -> str:\n",
    "    if not isinstance(text, str):\n",
    "        return \"\"\n",
    "    # remove special tokens like <issue_start>, <issue_comment>, <issue_closed>\n",
    "    text = re.sub(r\"<[^>]+>\", \" \", text)\n",
    "    # remove usernames like @username_123\n",
    "    text = re.sub(r\"@\\w+\", \" \", text)\n",
    "    # remove issue/bug IDs like #TRAC123 or #1234\n",
    "    text = re.sub(r\"#\\w+\", \" \", text)\n",
    "    # collapse multiple spaces\n",
    "    text = re.sub(r\"\\s+\", \" \", text).strip()\n",
    "    return text\n",
    "\n",
    "# Apply to dataset\n",
    "df_model[\"content_clean\"] = df_model[\"content\"].apply(clean_content)"
   ]
  },
  {
   "cell_type": "code",
   "execution_count": 15,
   "id": "bb41e274",
   "metadata": {},
   "outputs": [],
   "source": [
    "\n",
    "TITLE_RE = re.compile(r\"(?i)\\btitle:\\s*(.+?)\\s*(?=username_\\d+:|$)\")\n",
    "SPEAKER_RE = re.compile(r\"\\busername_\\d+:\\s*\")\n",
    "\n",
    "def split_title_body(text: str):\n",
    "    if not isinstance(text, str) or not text.strip():\n",
    "        return \"\", \"\"\n",
    "    # 1) extract title (text after \"Title:\" up to next speaker or end)\n",
    "    m = TITLE_RE.search(text)\n",
    "    title = m.group(1).strip() if m else \"\"\n",
    "    # 2) remove title segment (including the \"Title:\" token) from the body\n",
    "    body = TITLE_RE.sub(\" \", text) if m else text\n",
    "    # 3) remove speaker tags like \"username_1:\" from body\n",
    "    body = SPEAKER_RE.sub(\" \", body)\n",
    "    # 4) collapse whitespace\n",
    "    body = re.sub(r\"\\s+\", \" \", body).strip()\n",
    "    return title, body\n",
    "\n",
    "# Apply\n",
    "df_model[[\"issue_title\", \"content_body\"]] = df_model[\"content_clean\"].apply(\n",
    "    lambda t: pd.Series(split_title_body(t))\n",
    ")\n"
   ]
  },
  {
   "cell_type": "code",
   "execution_count": 16,
   "id": "634556cc",
   "metadata": {},
   "outputs": [
    {
     "name": "stdout",
     "output_type": "stream",
     "text": [
      "resolution_class\n",
      "Long      49.12\n",
      "Short     30.67\n",
      "Medium    20.22\n",
      "Name: proportion, dtype: float64\n"
     ]
    }
   ],
   "source": [
    "# 3-class version\n",
    "bins   = [0, 24, 168, float(\"inf\")]\n",
    "labels = [\"Short\", \"Medium\", \"Long\"]\n",
    "\n",
    "df_model[\"resolution_class\"] = pd.cut(\n",
    "    df_model[\"lifecycle_hours\"],\n",
    "    bins=bins,\n",
    "    labels=labels,\n",
    "    right=True,\n",
    "    include_lowest=True\n",
    ")\n",
    "\n",
    "print(df_model[\"resolution_class\"].value_counts(normalize=True).mul(100).round(2))\n"
   ]
  },
  {
   "cell_type": "code",
   "execution_count": 17,
   "id": "624fcc1e",
   "metadata": {},
   "outputs": [],
   "source": [
    "# Drop rows where resolution_class is NaN\n",
    "df_model = df_model.dropna(subset=[\"resolution_class\"]).copy()"
   ]
  },
  {
   "cell_type": "code",
   "execution_count": 18,
   "id": "59fde9b6",
   "metadata": {},
   "outputs": [],
   "source": [
    "def drop_negatives(df, col):\n",
    "    return df[df[col] >= 0]\n",
    "\n",
    "# Usage\n",
    "df_model = drop_negatives(df_model, \"lifecycle_hours\")"
   ]
  },
  {
   "cell_type": "code",
   "execution_count": 19,
   "id": "0ac15bc9",
   "metadata": {},
   "outputs": [],
   "source": [
    "X_cols = [\n",
    "    #'issue_title',\n",
    "    \"text_size\", \n",
    "    \"comment_count\", \n",
    "    \"participants_count\", \n",
    "    \"first_response_minutes\", \n",
    "    \"first_response_missing\"\n",
    "]"
   ]
  },
  {
   "cell_type": "markdown",
   "id": "f8454da6",
   "metadata": {},
   "source": [
    "#### Preparing X and Y variables"
   ]
  },
  {
   "cell_type": "code",
   "execution_count": 88,
   "id": "9e2ecb27",
   "metadata": {},
   "outputs": [],
   "source": [
    "# --- 0) pick columns from your original df ---\n",
    "num_cols = [\"text_size\",\"comment_count\",\"participants_count\",\"first_response_minutes\",]\n",
    "X_df = df_model[num_cols].copy()                # IMPORTANT: use the DataFrame, not a prior array\n",
    "y    = df_model[\"resolution_class\"].copy()      # adjust target name if needed"
   ]
  },
  {
   "cell_type": "markdown",
   "id": "753e5336",
   "metadata": {},
   "source": [
    "#### Create an Evaluate Function to give all metrics after model Training"
   ]
  },
  {
   "cell_type": "code",
   "execution_count": 89,
   "id": "2f716a31",
   "metadata": {},
   "outputs": [],
   "source": [
    "def eval_metrics(y_true, y_pred, le):\n",
    "    acc   = accuracy_score(y_true, y_pred)\n",
    "    f1_ma = f1_score(y_true, y_pred, average=\"macro\")\n",
    "    f1_wt = f1_score(y_true, y_pred, average=\"weighted\")\n",
    "    prec_ma = precision_score(y_true, y_pred, average=\"macro\", zero_division=0)\n",
    "    rec_ma  = recall_score(y_true, y_pred, average=\"macro\", zero_division=0)\n",
    "\n",
    "    # per-class metrics\n",
    "    classes = list(le.classes_)  # e.g., [\"Short\",\"Medium\",\"Long\"]\n",
    "    p_cls, r_cls, f_cls, _ = precision_recall_fscore_support(\n",
    "        y_true, y_pred, labels=np.arange(len(classes)), zero_division=0\n",
    "    )\n",
    "    # Find indices for \"Long\" and \"Short\" if present\n",
    "    idx_long  = classes.index(\"Long\")  if \"Long\"  in classes else None\n",
    "    idx_short = classes.index(\"Short\") if \"Short\" in classes else None\n",
    "    recall_long     = r_cls[idx_long]  if idx_long  is not None else np.nan\n",
    "    precision_short = p_cls[idx_short] if idx_short is not None else np.nan\n",
    "\n",
    "    return {\n",
    "        \"acc\": acc, \"f1_macro\": f1_ma, \"f1_weighted\": f1_wt,\n",
    "        \"precision_macro\": prec_ma, \"recall_macro\": rec_ma,\n",
    "        \"recall_long\": recall_long, \"precision_short\": precision_short\n",
    "    }"
   ]
  },
  {
   "cell_type": "code",
   "execution_count": 90,
   "id": "4facf953",
   "metadata": {},
   "outputs": [],
   "source": [
    "# --- 1) scale ---\n",
    "preprocessor = ColumnTransformer([(\"num\", RobustScaler(), num_cols)])\n",
    "X_scaled = preprocessor.fit_transform(X_df)   # -> shape (n_samples, 5)\n",
    "\n",
    "# --- 2) split ---\n",
    "X_train, X_test, y_train, y_test = train_test_split(\n",
    "    X_scaled, y, test_size=0.2, random_state=42, stratify=y\n",
    ")\n",
    "\n",
    "# --- 3) encode y AFTER split (avoid leakage/mismatch) ---\n",
    "le = LabelEncoder()\n",
    "y_train_cls = le.fit_transform(y_train)\n",
    "y_test_cls  = le.transform(y_test)"
   ]
  },
  {
   "cell_type": "code",
   "execution_count": 91,
   "id": "aff9fb54",
   "metadata": {},
   "outputs": [
    {
     "name": "stdout",
     "output_type": "stream",
     "text": [
      "LogisticRegression\n",
      "Train | Acc: 0.607  F1-macro: 0.445  Prec-macro: 0.429  Rec-macro: 0.507  Recall(Long): 0.759  Precision(Short): 0.532\n",
      "Test  | Acc: 0.606  F1-macro: 0.446  Prec-macro: 0.732  Rec-macro: 0.507  Recall(Long): 0.757  Precision(Short): 0.534\n",
      "----------------------------------------------------------------------\n"
     ]
    },
    {
     "name": "stderr",
     "output_type": "stream",
     "text": [
      "/Users/obinnadinneya/miniconda3/envs/venv/lib/python3.12/site-packages/sklearn/svm/_base.py:1244: ConvergenceWarning: Liblinear failed to converge, increase the number of iterations.\n",
      "  warnings.warn(\n"
     ]
    },
    {
     "name": "stdout",
     "output_type": "stream",
     "text": [
      "LinearSVC\n",
      "Train | Acc: 0.607  F1-macro: 0.447  Prec-macro: 0.428  Rec-macro: 0.513  Recall(Long): 0.729  Precision(Short): 0.513\n",
      "Test  | Acc: 0.607  F1-macro: 0.447  Prec-macro: 0.669  Rec-macro: 0.514  Recall(Long): 0.727  Precision(Short): 0.512\n",
      "----------------------------------------------------------------------\n",
      "KNN\n",
      "Train | Acc: 0.727  F1-macro: 0.688  Prec-macro: 0.709  Rec-macro: 0.677  Recall(Long): 0.847  Precision(Short): 0.760\n",
      "Test  | Acc: 0.618  F1-macro: 0.562  Prec-macro: 0.575  Rec-macro: 0.557  Recall(Long): 0.758  Precision(Short): 0.631\n",
      "----------------------------------------------------------------------\n",
      "RandomForest\n",
      "Train | Acc: 0.955  F1-macro: 0.951  Prec-macro: 0.957  Rec-macro: 0.946  Recall(Long): 0.976  Precision(Short): 0.954\n",
      "Test  | Acc: 0.625  F1-macro: 0.573  Prec-macro: 0.582  Rec-macro: 0.572  Recall(Long): 0.731  Precision(Short): 0.602\n",
      "----------------------------------------------------------------------\n"
     ]
    },
    {
     "name": "stderr",
     "output_type": "stream",
     "text": [
      "/Users/obinnadinneya/miniconda3/envs/venv/lib/python3.12/site-packages/xgboost/training.py:183: UserWarning: [12:40:44] WARNING: /var/folders/k1/30mswbxs7r1g6zwn8y4fyt500000gp/T/abs_abwcuua5oq/croot/xgboost-split_1749630928197/work/src/learner.cc:738: \n",
      "Parameters: { \"use_label_encoder\" } are not used.\n",
      "\n",
      "  bst.update(dtrain, iteration=i, fobj=obj)\n"
     ]
    },
    {
     "name": "stdout",
     "output_type": "stream",
     "text": [
      "XGBClassifier\n",
      "Train | Acc: 0.693  F1-macro: 0.630  Prec-macro: 0.694  Rec-macro: 0.624  Recall(Long): 0.817  Precision(Short): 0.657\n",
      "Test  | Acc: 0.662  F1-macro: 0.595  Prec-macro: 0.654  Rec-macro: 0.592  Recall(Long): 0.792  Precision(Short): 0.624\n",
      "----------------------------------------------------------------------\n",
      "CatBoost\n",
      "Train | Acc: 0.685  F1-macro: 0.622  Prec-macro: 0.683  Rec-macro: 0.616  Recall(Long): 0.816  Precision(Short): 0.655\n",
      "Test  | Acc: 0.661  F1-macro: 0.595  Prec-macro: 0.653  Rec-macro: 0.591  Recall(Long): 0.796  Precision(Short): 0.626\n",
      "----------------------------------------------------------------------\n",
      "AdaBoost\n",
      "Train | Acc: 0.649  F1-macro: 0.600  Prec-macro: 0.630  Rec-macro: 0.601  Recall(Long): 0.708  Precision(Short): 0.589\n",
      "Test  | Acc: 0.644  F1-macro: 0.594  Prec-macro: 0.626  Rec-macro: 0.596  Recall(Long): 0.704  Precision(Short): 0.580\n",
      "----------------------------------------------------------------------\n",
      "\n",
      "Best model by F1-macro: CatBoost -> {'acc': 0.6613317631945188, 'f1_macro': 0.5953117188467788, 'f1_weighted': 0.6427571407924155, 'precision_macro': 0.6526648888825095, 'recall_macro': 0.5908647758933436, 'recall_long': 0.796207497820401, 'precision_short': 0.6259793168285804}\n"
     ]
    },
    {
     "data": {
      "image/png": "[encoded data removed]",
      "text/plain": [
       "<Figure size 1200x500 with 2 Axes>"
      ]
     },
     "metadata": {},
     "output_type": "display_data"
    },
    {
     "name": "stdout",
     "output_type": "stream",
     "text": [
      "\n",
      "Detailed classification report (best model):\n",
      "              precision    recall  f1-score   support\n",
      "\n",
      "        Long       0.68      0.80      0.74      9176\n",
      "      Medium       0.65      0.28      0.39      3777\n",
      "       Short       0.63      0.70      0.66      5729\n",
      "\n",
      "    accuracy                           0.66     18682\n",
      "   macro avg       0.65      0.59      0.60     18682\n",
      "weighted avg       0.66      0.66      0.64     18682\n",
      "\n"
     ]
    }
   ],
   "source": [
    "# --- 4) define models ---\n",
    "models = {\n",
    "    \"LogisticRegression\": LogisticRegression(),\n",
    "    \"LinearSVC\": LinearSVC(),\n",
    "    \"KNN\": KNeighborsClassifier(),\n",
    "    \"RandomForest\": RandomForestClassifier(),\n",
    "    \"XGBClassifier\": XGBClassifier(use_label_encoder=False, eval_metric=\"mlogloss\"),\n",
    "    \"CatBoost\": CatBoostClassifier(verbose=False),\n",
    "    \"AdaBoost\": AdaBoostClassifier()\n",
    "}\n",
    "\n",
    "# --- 5) evaluation loop ---\n",
    "results = {}\n",
    "for name, model in models.items():\n",
    "    model.fit(X_train, y_train_cls)\n",
    "\n",
    "    y_tr_pred = model.predict(X_train)\n",
    "    y_te_pred = model.predict(X_test)\n",
    "\n",
    "    tr = eval_metrics(y_train_cls, y_tr_pred, le)\n",
    "    te = eval_metrics(y_test_cls,  y_te_pred,  le)\n",
    "\n",
    "    results[name] = te\n",
    "\n",
    "    print(name)\n",
    "    print(f\"Train | Acc: {tr['acc']:.3f}  F1-macro: {tr['f1_macro']:.3f}  \"\n",
    "          f\"Prec-macro: {tr['precision_macro']:.3f}  Rec-macro: {tr['recall_macro']:.3f}  \"\n",
    "          f\"Recall(Long): {tr['recall_long']:.3f}  Precision(Short): {tr['precision_short']:.3f}\")\n",
    "    print(f\"Test  | Acc: {te['acc']:.3f}  F1-macro: {te['f1_macro']:.3f}  \"\n",
    "          f\"Prec-macro: {te['precision_macro']:.3f}  Rec-macro: {te['recall_macro']:.3f}  \"\n",
    "          f\"Recall(Long): {te['recall_long']:.3f}  Precision(Short): {te['precision_short']:.3f}\")\n",
    "    print(\"-\" * 70)\n",
    "\n",
    "# --- 6) pick best model ---\n",
    "best_name = max(results, key=lambda k: results[k][\"f1_macro\"])\n",
    "best_model = models[best_name]\n",
    "print(f\"\\nBest model by F1-macro: {best_name} -> {results[best_name]}\")\n",
    "\n",
    "# --- 7) confusion matrix + report ---\n",
    "y_pred_best = best_model.predict(X_test)\n",
    "cm = confusion_matrix(y_test_cls, y_pred_best, labels=np.arange(len(le.classes_)))\n",
    "\n",
    "fig, ax = plt.subplots(1, 2, figsize=(12, 5))\n",
    "ConfusionMatrixDisplay(cm, display_labels=le.classes_).plot(ax=ax[0], cmap=\"Blues\", colorbar=False)\n",
    "ax[0].set_title(f\"{best_name} - Confusion Matrix (Counts)\")\n",
    "\n",
    "cm_norm = cm.astype(float) / cm.sum(axis=1, keepdims=True)\n",
    "ConfusionMatrixDisplay(cm_norm, display_labels=le.classes_).plot(\n",
    "    ax=ax[1], cmap=\"Blues\", values_format=\".2f\", colorbar=False\n",
    ")\n",
    "ax[1].set_title(f\"{best_name} - Confusion Matrix (Row-Normalized)\")\n",
    "plt.tight_layout()\n",
    "plt.show()\n",
    "\n",
    "print(\"\\nDetailed classification report (best model):\")\n",
    "print(classification_report(\n",
    "    y_test_cls, \n",
    "    y_pred_best, \n",
    "    target_names=[str(c) for c in le.classes_], \n",
    "    zero_division=0\n",
    "))\n",
    "\n",
    "\n"
   ]
  },
  {
   "cell_type": "markdown",
   "id": "20ef4909",
   "metadata": {},
   "source": [
    "### SHAP EXPLANATION"
   ]
  },
  {
   "cell_type": "code",
   "execution_count": 92,
   "id": "55e6f14d",
   "metadata": {},
   "outputs": [
    {
     "name": "stdout",
     "output_type": "stream",
     "text": [
      "sv.values.shape: (18682, 4, 3)\n",
      "sv.base_values.shape: (18682, 3)\n"
     ]
    },
    {
     "data": {
      "image/png": "[encoded data removed]",
      "text/plain": [
       "<Figure size 800x350 with 1 Axes>"
      ]
     },
     "metadata": {},
     "output_type": "display_data"
    },
    {
     "data": {
      "text/html": [
       "\n",
       "<div id='iE6V1BM1SZ48R7T944MZA'>\n",
       "<div style='color: #900; text-align: center;'>\n",
       "  <b>Visualization omitted, Javascript library not loaded!</b><br>\n",
       "  Have you run `initjs()` in this notebook? If this notebook was from another\n",
       "  user you must also trust this notebook (File -> Trust notebook). If you are viewing\n",
       "  this notebook on github the Javascript has been stripped for security. If you are using\n",
       "  JupyterLab this error is because a JupyterLab extension has not yet been written.\n",
       "</div></div>\n",
       " <script>\n",
       "   if (window.SHAP) SHAP.ReactDom.render(\n",
       "    SHAP.React.createElement(SHAP.AdditiveForceVisualizer, {\"outNames\": [\"f(x)\"], \"baseValue\": 0.8308467890366376, \"outValue\": 0.18936998877159683, \"link\": \"identity\", \"featureNames\": [\"text_size\", \"comment_count\", \"participants_count\", \"first_response_minutes\"], \"features\": {\"0\": {\"effect\": 0.008157647894071786, \"value\": 0.08543458914268763}, \"1\": {\"effect\": 0.0019303034211320183, \"value\": -0.6666666666666666}, \"2\": {\"effect\": -0.2919537716711661, \"value\": -1.0}, \"3\": {\"effect\": -0.3596109799090784, \"value\": -0.06023645357831809}}, \"plot_cmap\": \"RdBu\", \"labelMargin\": 20}),\n",
       "    document.getElementById('iE6V1BM1SZ48R7T944MZA')\n",
       "  );\n",
       "</script>"
      ],
      "text/plain": [
       "<shap.plots._force.AdditiveForceVisualizer at 0x37cb842f0>"
      ]
     },
     "execution_count": 92,
     "metadata": {},
     "output_type": "execute_result"
    }
   ],
   "source": [
    "# X_test_df MUST be a DataFrame with your 4 feature names\n",
    "# num_cols = [\"text_size\",\"comment_count\",\"participants_count\",\"first_response_minutes\"]\n",
    "X_test_df = pd.DataFrame(X_test, columns=num_cols)\n",
    "\n",
    "\n",
    "# 1) Build explainer & explanation (do NOT pass y)\n",
    "explainer = shap.TreeExplainer(best_model)\n",
    "sv = explainer(X_test_df)   # sv is a shap.Explanation\n",
    "\n",
    "print(\"sv.values.shape:\", sv.values.shape)       # expect (n_samples, 4, 3) for 3 classes\n",
    "print(\"sv.base_values.shape:\", sv.base_values.shape)\n",
    "\n",
    "# 2) GLOBAL importance (aggregate over samples and classes)\n",
    "glob = np.abs(sv.values).mean(axis=(0, 2))       # -> (4,)\n",
    "shap.plots.bar(\n",
    "    shap.Explanation(values=glob, base_values=0, data=None, feature_names=num_cols)\n",
    ")\n",
    "\n",
    "# 3) LOCAL force plot for one row & one class\n",
    "i = 0                # choose a sample index (plain int)\n",
    "k = 0                # choose a class index (plain int)\n",
    "\n",
    "row_vals = sv.values[i, :, k]                    # (4,)\n",
    "# base_values can be shape (n_samples, n_classes) or (n_classes,)\n",
    "base = sv.base_values[i, k] if sv.base_values.ndim == 2 else sv.base_values[k]\n",
    "row_data = X_test_df.iloc[i].values             # (4,)\n",
    "\n",
    "row_expl = shap.Explanation(\n",
    "    values=row_vals,\n",
    "    base_values=base,\n",
    "    data=row_data,\n",
    "    feature_names=num_cols\n",
    ")\n",
    "shap.plots.force(row_expl)\n",
    "\n"
   ]
  },
  {
   "cell_type": "markdown",
   "id": "7a2e4204",
   "metadata": {},
   "source": [
    "The SHAP feature importance plot shows that the model’s predictions are dominated by first_response_minutes, followed by comment_count and participants_count, with text_size having only a minor effect. This means the model relies most on response speed, while ticket length contributes very little to prediction decisions."
   ]
  }
 ],
 "metadata": {
  "kernelspec": {
   "display_name": "venv",
   "language": "python",
   "name": "python3"
  },
  "language_info": {
   "codemirror_mode": {
    "name": "ipython",
    "version": 3
   },
   "file_extension": ".py",
   "mimetype": "text/x-python",
   "name": "python",
   "nbconvert_exporter": "python",
   "pygments_lexer": "ipython3",
   "version": "3.12.3"
  }
 },
 "nbformat": 4,
 "nbformat_minor": 5
}
